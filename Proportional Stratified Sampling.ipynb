{
 "cells": [
  {
   "cell_type": "markdown",
   "id": "8e11b040-c4d6-4534-ac71-efe95b9b3495",
   "metadata": {},
   "source": [
    "# Proportional Stratified Sampling"
   ]
  },
  {
   "cell_type": "markdown",
   "id": "b37ab425-3939-4fe2-b58c-f8169543e611",
   "metadata": {},
   "source": [
    "**Proportional stratified sampling** is a sampling technique used in statistics where a population is divided into distinct subgroups or strata, and samples are drawn from each subgroup in proportion to its size relative to the overall population. The goal is to ensure that each subgroup is represented in the sample according to its actual proportion in the population, which helps improve the accuracy and representativeness of the sample."
   ]
  },
  {
   "cell_type": "markdown",
   "id": "72135044-bc2c-4c28-9156-7faf371f0815",
   "metadata": {},
   "source": [
    "**Key Steps:**\n",
    "\n",
    "1. Identify Strata: The population is divided into strata based on specific characteristics (e.g., age, gender, income levels). Each stratum should be mutually exclusive.\n",
    "\n",
    "2. Determine Sample Size for Each Stratum: The sample size for each stratum is proportional to its size in the overall population. For example, if a stratum makes up 30% of the population, it should also constitute 30% of the sample.\n",
    "\n",
    "3. Random Sampling within Strata: Within each stratum, random sampling is conducted to select individuals for the sample."
   ]
  },
  {
   "cell_type": "markdown",
   "id": "38e29bc7-ba7e-418f-88dd-cf371ec126c5",
   "metadata": {},
   "source": [
    "**Example:**\n",
    "\n",
    "Suppose a school has 1,000 students, and you want to survey 100 students. The students are divided into strata by grade:\n",
    "\n",
    "    400 students in grade 9\n",
    "    300 students in grade 10\n",
    "    200 students in grade 11\n",
    "    100 students in grade 12\n",
    "\n",
    "The sample size from each grade will be proportional to the total number of students in each grade:\n",
    "\n",
    "    Grade 9: 4001000×100=401000400​×100=40 students\n",
    "    Grade 10: 3001000×100=301000300​×100=30 students\n",
    "    Grade 11: 2001000×100=201000200​×100=20 students\n",
    "    Grade 12: 1001000×100=101000100​×100=10 students"
   ]
  },
  {
   "cell_type": "markdown",
   "id": "d9462bfb-f212-4650-b027-5507596be76d",
   "metadata": {},
   "source": [
    "**Benefits:**\n",
    "\n",
    "1. Increased precision: By ensuring each stratum is proportionally represented, the sample better reflects the population.\n",
    "2. Improved accuracy: Especially useful when the population has distinct subgroups that may behave differently."
   ]
  },
  {
   "cell_type": "raw",
   "id": "329e3ef4-ead8-4572-a24a-c8752113962e",
   "metadata": {},
   "source": [
    "Example Code:"
   ]
  },
  {
   "cell_type": "code",
   "execution_count": null,
   "id": "f8e1a94c-599a-4844-a05a-6bcc464cff75",
   "metadata": {},
   "outputs": [],
   "source": [
    "import pandas as pd\n",
    "import numpy as np\n",
    "import matplotlib.pyplot as plt\n",
    "\n",
    "# Load the dataset\n",
    "wnba = pd.read_csv('wnba.csv')\n",
    "df = pd.DataFrame(wnba)\n",
    "\n",
    "stratum_1 = df[df['Games Played'] <= 12]\n",
    "stratum_2 = df[(df['Games Played'] > 12) & (df['Games Played'] <= 22)]\n",
    "stratum_3 = df[df['Games Played'] > 22]\n",
    "\n",
    "sample_means = []\n",
    "\n",
    "for i in range(100):\n",
    "    sample_1 = stratum_1.sample(1, random_state=i)\n",
    "    sample_2 = stratum_2.sample(2, random_state=i)\n",
    "    sample_3 = stratum_3.sample(7, random_state=i)\n",
    "    \n",
    "    final_sample = pd.concat([sample_1, sample_2, sample_3])\n",
    "    \n",
    "    sample_mean = final_sample['PTS'].mean()\n",
    "    \n",
    "    # Append the mean to the list\n",
    "    sample_means.append(sample_mean)\n",
    "    \n",
    "    \n",
    "    \n",
    "parametre = df['PTS'].mean() \n",
    "\n",
    "plt.scatter(np.arange(1, 101), sample_means)\n",
    "plt.axhline(y=parametre)\n",
    "plt.show()"
   ]
  },
  {
   "cell_type": "markdown",
   "id": "2310278a-9f76-42be-8d1e-3bf7b1b7b54b",
   "metadata": {},
   "source": [
    "This code snippet implements a proportional stratified sampling approach on a dataset containing information about WNBA players. It specifically aims to analyze how the average points scored (PTS) by a sample of players compares to the overall average points in the dataset. "
   ]
  },
  {
   "cell_type": "raw",
   "id": "5cfb1fae-4b94-4f1b-84d7-6f8752e6edb0",
   "metadata": {},
   "source": [
    "Explanation of Code:\n",
    "\n",
    "1. Dataset Loading: The code successfully loads the WNBA dataset from a CSV file into a pandas DataFrame for analysis.\n",
    "\n",
    "2. Stratification: The dataset is stratified into three groups based on the number of games played:\n",
    "        Players who played 12 or fewer games.\n",
    "        Players who played between 13 and 22 games.\n",
    "        Players who played more than 22 games.\n",
    "\n",
    "3. Proportional Sampling: For each of the 100 iterations:\n",
    "        A fixed number of samples is drawn from each stratum:\n",
    "            1 player from stratum 1.\n",
    "            2 players from stratum 2.\n",
    "            7 players from stratum 3.\n",
    "       This sampling is proportional to the sizes of the strata.\n",
    "\n",
    "4. Mean Calculation: The mean points scored (PTS) for each sampled group is calculated and stored in a list for later analysis.\n",
    "\n",
    "5. Overall Mean Comparison: The overall mean points scored across all players in the dataset is calculated to serve as a benchmark.\n",
    "\n",
    "6. Data Visualization: A scatter plot is generated:\n",
    "        Each point represents the mean points scored from the samples.\n",
    "        A horizontal line indicates the overall mean points, allowing for visual comparison.\n",
    "\n",
    "7. Insights on Sampling: The plot illustrates how the sample means vary, indicating whether the sampled means are consistently close to or deviating    from the overall mean.\n",
    "\n",
    "8. Statistical Validity: By using proportional stratified sampling, the code enhances the representativeness of the samples, leading to more reliable insights regarding player performance in terms of points scored."
   ]
  }
 ],
 "metadata": {
  "kernelspec": {
   "display_name": "Python 3 (ipykernel)",
   "language": "python",
   "name": "python3"
  },
  "language_info": {
   "codemirror_mode": {
    "name": "ipython",
    "version": 3
   },
   "file_extension": ".py",
   "mimetype": "text/x-python",
   "name": "python",
   "nbconvert_exporter": "python",
   "pygments_lexer": "ipython3",
   "version": "3.12.3"
  }
 },
 "nbformat": 4,
 "nbformat_minor": 5
}
