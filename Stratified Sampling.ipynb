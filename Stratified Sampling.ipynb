{
 "cells": [
  {
   "cell_type": "markdown",
   "id": "20e6a86f-367b-44ae-94bb-58ad15024586",
   "metadata": {},
   "source": [
    "# Stratified Sampling"
   ]
  },
  {
   "cell_type": "markdown",
   "id": "cf7ee7dd-af04-4e68-9640-5e44a3bed16d",
   "metadata": {},
   "source": [
    "Stratified Sampling is a method of sampling where a population is divided into smaller subgroups, or \"strata,\" that share similar characteristics. From each stratum, a sample is taken, and these samples are combined to form a complete sample that is representative of the entire population. This approach ensures that specific subgroups within a population are adequately represented in the sample."
   ]
  },
  {
   "cell_type": "markdown",
   "id": "4b0b66c7-43f9-43cd-b297-c1a91ced2921",
   "metadata": {},
   "source": [
    "**Key Characteristics:**\n",
    "\n",
    "1. Strata: The population is divided into groups (strata) based on certain characteristics like age, gender, income level, etc.\n",
    "2. Sampling within strata: After dividing into strata, a random sample is taken from each stratum. This can be done proportionally to the size of the         stratum relative to the population, or equal-sized samples can be taken.\n",
    "3. Representation: This method is used to ensure that minority groups or specific segments of the population are not underrepresented in the sample."
   ]
  },
  {
   "cell_type": "markdown",
   "id": "c73b70de-393e-4eeb-91fd-30e05b809a3e",
   "metadata": {},
   "source": [
    "**Example:**\n",
    "\n",
    "Imagine you're conducting a survey on a population that consists of 60% men and 40% women. If you were to take a random sample without stratifying, you might end up with a sample that's not proportionally representative (e.g., too many men or too many women). By using stratified sampling, you would:\n",
    "\n",
    "1. Divide the population into two strata: men and women.\n",
    "2. Take a sample from each stratum proportionally to its size in the population (e.g., 60% of the sample from men and 40% from women)."
   ]
  },
  {
   "cell_type": "markdown",
   "id": "abcea5fd-305f-4d50-b3fb-5bd1150c611a",
   "metadata": {},
   "source": [
    "**Types of Stratified Sampling:**\n",
    "\n",
    "1. Proportional Stratified Sampling: The sample size from each stratum is proportional to the size of the stratum in the population.\n",
    "2. Disproportional (or Equal) Stratified Sampling: An equal number of samples is taken from each stratum, regardless of the stratum's size."
   ]
  },
  {
   "cell_type": "markdown",
   "id": "fbbf669d-5d2f-4dba-a26a-0ef2ec85bec9",
   "metadata": {},
   "source": [
    "**Advantages:**\n",
    "\n",
    "1. Improved representativeness: Ensures that all subgroups are fairly represented.\n",
    "2. Increased precision: Since the variability within each stratum is lower than in the whole population, stratified sampling can provide more precise estimates.\n",
    "3. More informative: Allows for better analysis of subgroups."
   ]
  },
  {
   "cell_type": "markdown",
   "id": "4f186ded-defa-4c24-aeda-f6234e40bf32",
   "metadata": {},
   "source": [
    "**When to Use Stratified Sampling:**\n",
    "\n",
    "1. When the population has distinct subgroups.\n",
    "2. When you want to ensure that all subgroups are represented in the sample.\n",
    "3. When the population is heterogeneous (i.e., diverse), and you want to account for that diversity in your sampling."
   ]
  },
  {
   "cell_type": "raw",
   "id": "ece85d36-47c9-46e7-ba00-e9fdf9413b39",
   "metadata": {},
   "source": [
    "Example Code:"
   ]
  },
  {
   "cell_type": "code",
   "execution_count": null,
   "id": "c9ea8876-4dc0-43de-baef-8875df170e1f",
   "metadata": {},
   "outputs": [],
   "source": [
    "import pandas as pd\n",
    "\n",
    "# Load dataset\n",
    "data = pd.read_csv('wnba.csv')\n",
    "df = pd.DataFrame(data)\n",
    "\n",
    "# Create a new column for points per game\n",
    "df['points_per_game'] = df['PTS'] / df['Games Played']\n",
    "\n",
    "# Get unique player positions\n",
    "positions = df['Pos'].unique()\n",
    "\n",
    "# Dictionary to store the mean points per game for each position\n",
    "mean_points_per_position = {}\n",
    "\n",
    "# Loop through each position and calculate mean points per game\n",
    "for p in positions:\n",
    "    # Filter the dataset for the current position\n",
    "    stratum = df[df['Pos'] == p]\n",
    "    \n",
    "    # Sample 10 players from the stratum\n",
    "    sample = stratum.sample(10, random_state=0)\n",
    "    \n",
    "    # Calculate the mean points per game for the sample\n",
    "    mean_points = sample['points_per_game'].mean()\n",
    "    \n",
    "    # Store the mean points in the dictionary\n",
    "    mean_points_per_position[p] = mean_points\n",
    "\n",
    "# Find the position with the highest mean points per game\n",
    "position_most_points = max(mean_points_per_position, key=mean_points_per_position.get)\n",
    "\n",
    "# Print the result\n",
    "print(f'The position that scores the highest points per game is: {position_most_points}')"
   ]
  },
  {
   "cell_type": "markdown",
   "id": "b02e5486-e4a3-4624-9105-04ae21b578da",
   "metadata": {},
   "source": [
    "**Summary:**\n",
    "\n",
    "This code is performing stratified sampling by dividing the dataset into groups (strata) based on player positions and sampling 10 players from each position. It calculates the average points per game for these samples and determines which position has the highest average points per game.\n",
    "Key Concepts:\n",
    "\n",
    "    Stratified Sampling: The dataset is divided by position (strata) before sampling.\n",
    "    Random Sampling: A sample of 10 players is randomly taken from each stratum (position).\n",
    "    Mean Calculation: The mean points per game are calculated for each sample of players.\n",
    "    Dictionary Usage: The mean points are stored in a dictionary for easy comparison across positions."
   ]
  },
  {
   "cell_type": "code",
   "execution_count": null,
   "id": "fdca3bdd-5d83-44d5-b4a0-0e60f37e813c",
   "metadata": {},
   "outputs": [],
   "source": []
  }
 ],
 "metadata": {
  "kernelspec": {
   "display_name": "Python 3 (ipykernel)",
   "language": "python",
   "name": "python3"
  },
  "language_info": {
   "codemirror_mode": {
    "name": "ipython",
    "version": 3
   },
   "file_extension": ".py",
   "mimetype": "text/x-python",
   "name": "python",
   "nbconvert_exporter": "python",
   "pygments_lexer": "ipython3",
   "version": "3.12.3"
  }
 },
 "nbformat": 4,
 "nbformat_minor": 5
}
