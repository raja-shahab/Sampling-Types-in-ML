{
 "cells": [
  {
   "cell_type": "markdown",
   "id": "8e0c6be0-ac16-4702-859c-cc9c91d7eab5",
   "metadata": {},
   "source": [
    "# Random Sampling"
   ]
  },
  {
   "cell_type": "markdown",
   "id": "53eb5da5-7dde-417d-b9f0-cc0e2302115b",
   "metadata": {},
   "source": [
    "Random sampling is a method used to select a group of individuals or data points from a larger population in such a way that every member has an equal chance of being chosen. This ensures that the sample represents the entire population fairly, reducing bias."
   ]
  },
  {
   "cell_type": "markdown",
   "id": "bcb4d54d-7984-4015-b40d-46a7e8a9050a",
   "metadata": {},
   "source": [
    "If you wanted to study students in a school, you could use random sampling to pick a few students from different classes. This makes it more likely that your study results will apply to all students, not just a specific group."
   ]
  },
  {
   "cell_type": "markdown",
   "id": "25fc1925-82ba-4ac7-bfdf-37632da246ce",
   "metadata": {},
   "source": [
    "**For example:**"
   ]
  },
  {
   "cell_type": "raw",
   "id": "4478a99d-0c24-4092-afb1-0c1e98e6e290",
   "metadata": {},
   "source": [
    "Imagine you have a class of 30 students, and you want to survey 5 of them to find out their favorite subject. To do random sampling, you can write the names of all 30 students on pieces of paper, put them in a hat, and randomly draw 5 names. Since each student has an equal chance of being chosen, this is a fair way to get a sample that represents the entire class."
   ]
  },
  {
   "cell_type": "code",
   "execution_count": 1,
   "id": "38b24cd7-c4fd-44b0-aa21-2e72eb3f6e1a",
   "metadata": {},
   "outputs": [
    {
     "name": "stdout",
     "output_type": "stream",
     "text": [
      "Randomly selected students: ['Student29', 'Student27', 'Student15', 'Student11', 'Student22']\n"
     ]
    }
   ],
   "source": [
    "import random\n",
    "\n",
    "students = ['Student1', 'Student2', 'Student3', 'Student4', 'Student5',\n",
    "            'Student6', 'Student7', 'Student8', 'Student9', 'Student10',\n",
    "            'Student11', 'Student12', 'Student13', 'Student14', 'Student15',\n",
    "            'Student16', 'Student17', 'Student18', 'Student19', 'Student20',\n",
    "            'Student21', 'Student22', 'Student23', 'Student24', 'Student25',\n",
    "            'Student26', 'Student27', 'Student28', 'Student29', 'Student30']\n",
    "\n",
    "sample_size = 5\n",
    "\n",
    "# Perform random sampling\n",
    "random_sample = random.sample(students, sample_size)\n",
    "\n",
    "print(\"Randomly selected students:\", random_sample)"
   ]
  },
  {
   "cell_type": "markdown",
   "id": "6e60a766-cd97-468e-8a4a-d2213b6af3dd",
   "metadata": {},
   "source": [
    "**Another Example**"
   ]
  },
  {
   "cell_type": "code",
   "execution_count": null,
   "id": "b6b966ab-bd4a-4ee5-94ca-8c45c4d7210e",
   "metadata": {},
   "outputs": [],
   "source": [
    "import pandas as pd\n",
    "import numpy as np\n",
    "import matplotlib.pyplot as plt\n",
    "\n",
    "wnba = pd.read_csv('wnba.csv')\n",
    "df = pd.DataFrame(wnba)\n",
    "df_pts = df['PTS']\n",
    "\n",
    "population_mean = df_pts.mean()\n",
    "mean_list = []\n",
    "\n",
    "for i in range(100):\n",
    "    sample = df_pts.sample(10, random_state=i)\n",
    "    sample_mean = sample.mean()\n",
    "    \n",
    "    mean_list.append(sample_mean)\n",
    "    \n",
    "plt.scatter(range(1,101), mean_list)\n",
    "plt.axhline(population_mean)\n",
    "plt.show()"
   ]
  },
  {
   "cell_type": "markdown",
   "id": "dc2a3cee-12dd-4e0a-a3c1-89263c98e59a",
   "metadata": {},
   "source": [
    "**Explaination:**"
   ]
  },
  {
   "cell_type": "raw",
   "id": "9bd03df3-f590-4c3c-be34-fd8752ea2c38",
   "metadata": {},
   "source": [
    "This code demonstrates random sampling from a dataset and visualizes the means of these samples compared to the population mean. Here's a breakdown in simple terms:\n",
    "\n",
    "1. Importing libraries:\n",
    "        pandas is used to handle data in a table (DataFrame).\n",
    "        numpy is used for numerical operations.\n",
    "        matplotlib.pyplot is used to create plots.\n",
    "\n",
    "2. Loading the data:\n",
    "        The wnba.csv file is read into a DataFrame wnba using pd.read_csv().\n",
    "        A new DataFrame df is created from this data, and then the column 'PTS' (points scored by players) is extracted into df_pts.\n",
    "\n",
    "3. Calculating the population mean:\n",
    "        The mean (average) of all values in df_pts is calculated and stored in population_mean. This represents the overall average points scored               by players in the dataset.\n",
    "\n",
    "4. Creating sample means:\n",
    "        The code runs a loop 100 times. In each loop:\n",
    "            It randomly selects a sample of 10 players' points (df_pts.sample(10)).\n",
    "            The mean of this sample is calculated and stored in sample_mean.\n",
    "            Each sample's mean is added to a list called mean_list.\n",
    "\n",
    "5. Plotting the results:\n",
    "        A scatter plot is created where the x-axis represents the 100 samples, and the y-axis represents the sample means.\n",
    "        A horizontal line is drawn at the height of the population mean using plt.axhline() to show how the sample means compare to the overall mean.\n",
    "\n",
    "In short:\n",
    "\n",
    "    The code calculates the population mean (the average of all points in the dataset).\n",
    "    It then takes 100 random samples of 10 players' points each, calculates the mean for each sample, and plots these sample means.\n",
    "    The plot visually compares the sample means to the population mean, showing how close they are."
   ]
  },
  {
   "cell_type": "code",
   "execution_count": null,
   "id": "bf4dae67-4a78-4d2c-9ca3-43e820db48b1",
   "metadata": {},
   "outputs": [],
   "source": []
  }
 ],
 "metadata": {
  "kernelspec": {
   "display_name": "Python 3 (ipykernel)",
   "language": "python",
   "name": "python3"
  },
  "language_info": {
   "codemirror_mode": {
    "name": "ipython",
    "version": 3
   },
   "file_extension": ".py",
   "mimetype": "text/x-python",
   "name": "python",
   "nbconvert_exporter": "python",
   "pygments_lexer": "ipython3",
   "version": "3.12.3"
  }
 },
 "nbformat": 4,
 "nbformat_minor": 5
}
