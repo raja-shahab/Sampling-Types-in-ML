{
 "cells": [
  {
   "cell_type": "markdown",
   "id": "74769011-9f26-40f3-8940-3df0b9390a82",
   "metadata": {},
   "source": [
    "# Quota Sampling"
   ]
  },
  {
   "cell_type": "markdown",
   "id": "e6b6ab16-2480-4095-b46b-91a1606ef754",
   "metadata": {},
   "source": [
    "**Quota sampling** is a non-probability sampling technique used in research where the population is divided into subgroups (or \"quotas\") based on specific characteristics such as age, gender, income level, etc., and participants are selected from each subgroup in proportion to their prevalence in the population. This method ensures that specific segments of the population are adequately represented in the sample."
   ]
  },
  {
   "cell_type": "markdown",
   "id": "369563ef-ea68-438f-b3dc-dbeaae25516d",
   "metadata": {},
   "source": [
    "**Key Features of Quota Sampling:**\n",
    "\n",
    "**1. Non-Random Selection:**\n",
    "\n",
    "    Unlike random sampling, participants are chosen non-randomly, based on the researcher's judgment or convenience, as long as the quota for each subgroup is fulfilled.\n",
    "\n",
    "**2. Dividing the Population into Quotas:**\n",
    "\n",
    "    The population is divided into categories or quotas based on key characteristics relevant to the research (e.g., age, gender, income, etc.).\n",
    "\n",
    "**3. Proportional Representation:**\n",
    "\n",
    "    The sample aims to have the same proportion of individuals from each subgroup as exists in the overall population. For example, if 40% of the population is female and 60% is male, the sample would aim to have the same proportion.\n",
    "\n",
    "**4. Filling Quotas:**\n",
    "\n",
    "    Researchers select participants until the required number (quota) for each subgroup is filled. They may select the easiest or most accessible participants for this."
   ]
  },
  {
   "cell_type": "raw",
   "id": "2b183fe6-3a58-495d-b8c6-d3b1cd504ec4",
   "metadata": {},
   "source": [
    "Example of Quota Sampling:\n",
    "\n",
    "Imagine you're conducting a survey about consumer preferences in a city, and you know the population is:\n",
    "\n",
    "50% male, 50% female\n",
    "30% aged 18-30, 40% aged 31-50, 30% aged 51 and above\n",
    "In quota sampling, you would ensure your sample reflects these proportions. For instance, if you want a sample of 100 people, you'd aim for:\n",
    "\n",
    "50 males and 50 females\n",
    "30 individuals aged 18-30, 40 individuals aged 31-50, and 30 individuals aged 51 and above\n",
    "You would then choose participants within each group non-randomly until the quotas are filled."
   ]
  },
  {
   "cell_type": "markdown",
   "id": "2e226fa9-53ab-4399-8178-fdced26b68f4",
   "metadata": {},
   "source": [
    "**Advantages of Quota Sampling:**\n",
    "\n",
    "1. Time-efficient and Cost-effective: Quota sampling can be faster and cheaper compared to random sampling.\n",
    "2. Ensures Representation: It ensures that specific subgroups are represented in the sample, especially when you know certain groups are important for your study."
   ]
  },
  {
   "cell_type": "markdown",
   "id": "1cf35019-d097-461c-b26e-25563f106e00",
   "metadata": {},
   "source": [
    "**Disadvantages of Quota Sampling:**\n",
    "\n",
    "1. Bias Risk: Since participants are selected non-randomly, it may introduce selection bias and the sample may not fully represent the broader population.\n",
    "2. Not Generalizable: Results from quota sampling are less likely to be generalizable compared to probability sampling methods."
   ]
  },
  {
   "cell_type": "code",
   "execution_count": 1,
   "id": "7aeb7999-633c-4e3a-9b02-26dea4bb8561",
   "metadata": {},
   "outputs": [
    {
     "name": "stdout",
     "output_type": "stream",
     "text": [
      "Sampled by Gender:\n",
      "    Name Gender Age_Group\n",
      "9   Jack      M     18-30\n",
      "3  David      M       51+\n",
      "1    Bob      M     18-30\n",
      "7  Helen      F       51+\n",
      "4    Eva      F     31-50\n",
      "8    Ivy      F     31-50\n",
      "\n",
      "Sampled by Age Group:\n",
      "      Name Gender Age_Group\n",
      "1      Bob      M     18-30\n",
      "6    Grace      F     18-30\n",
      "2  Charlie      M     31-50\n",
      "4      Eva      F     31-50\n",
      "5    Frank      M       51+\n",
      "7    Helen      F       51+\n"
     ]
    }
   ],
   "source": [
    "import pandas as pd\n",
    "\n",
    "# Example population dataset\n",
    "data = {\n",
    "    'Name': ['Alice', 'Bob', 'Charlie', 'David', 'Eva', 'Frank', 'Grace', 'Helen', 'Ivy', 'Jack'],\n",
    "    'Gender': ['F', 'M', 'M', 'M', 'F', 'M', 'F', 'F', 'F', 'M'],\n",
    "    'Age_Group': ['18-30', '18-30', '31-50', '51+', '31-50', '51+', '18-30', '51+', '31-50', '18-30']\n",
    "}\n",
    "\n",
    "# Create a DataFrame\n",
    "df = pd.DataFrame(data)\n",
    "\n",
    "# Quota Sampling Setup\n",
    "quota = {\n",
    "    'Gender': {'M': 3, 'F': 3},   # 3 males and 3 females\n",
    "    'Age_Group': {'18-30': 2, '31-50': 2, '51+': 2}   # 2 people from each age group\n",
    "}\n",
    "\n",
    "# Function for Quota Sampling\n",
    "def quota_sampling(df, column, num_samples):\n",
    "    sample = pd.DataFrame()  # Empty DataFrame to hold samples\n",
    "    for category, count in num_samples.items():\n",
    "        # Sample specified number from each category\n",
    "        sampled = df[df[column] == category].sample(count)\n",
    "        sample = pd.concat([sample, sampled])\n",
    "    return sample\n",
    "\n",
    "# Perform Quota Sampling based on Gender and Age Group\n",
    "sampled_gender = quota_sampling(df, 'Gender', quota['Gender'])\n",
    "sampled_age = quota_sampling(df, 'Age_Group', quota['Age_Group'])\n",
    "\n",
    "# Resulting sample\n",
    "print(\"Sampled by Gender:\")\n",
    "print(sampled_gender)\n",
    "\n",
    "print(\"\\nSampled by Age Group:\")\n",
    "print(sampled_age)\n"
   ]
  },
  {
   "cell_type": "markdown",
   "id": "2514be57-6627-42dd-a897-0c4f9b849f5e",
   "metadata": {},
   "source": [
    "**Explanation:**"
   ]
  },
  {
   "cell_type": "raw",
   "id": "33d9eadb-bd68-4889-a9fc-94ff8a2f275c",
   "metadata": {},
   "source": [
    "* Population Dataset:\n",
    "\n",
    "We have a dataset (df) of 10 people with two key characteristics: Gender and Age_Group.\n",
    "\n",
    "* Quota Setup:\n",
    "\n",
    "The quota dictionary defines the number of samples needed for each category:\n",
    "3 males and 3 females.\n",
    "2 people from each age group (18-30, 31-50, 51+).\n",
    "\n",
    "* Sampling Function:\n",
    "\n",
    "quota_sampling() takes in the dataset and a quota definition, selects the required number of samples from each category, and returns the result.\n",
    "\n",
    "* Sampling Output:\n",
    "\n",
    "We sample by both Gender and Age_Group using the quota defined and print the results."
   ]
  },
  {
   "cell_type": "markdown",
   "id": "1e942673-6233-4f9a-b36a-1c0670911d02",
   "metadata": {},
   "source": [
    "Quota sampling is useful in exploratory research or when you need a sample that reflects specific characteristics of a population but don't require or have access to fully random sampling methods."
   ]
  }
 ],
 "metadata": {
  "kernelspec": {
   "display_name": "Python 3 (ipykernel)",
   "language": "python",
   "name": "python3"
  },
  "language_info": {
   "codemirror_mode": {
    "name": "ipython",
    "version": 3
   },
   "file_extension": ".py",
   "mimetype": "text/x-python",
   "name": "python",
   "nbconvert_exporter": "python",
   "pygments_lexer": "ipython3",
   "version": "3.12.3"
  }
 },
 "nbformat": 4,
 "nbformat_minor": 5
}
