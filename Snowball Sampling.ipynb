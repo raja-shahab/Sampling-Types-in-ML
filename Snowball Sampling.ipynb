{
 "cells": [
  {
   "cell_type": "markdown",
   "id": "1c82a52a-9c75-44ef-b123-a4d8accd1f60",
   "metadata": {},
   "source": [
    "# Snow ball Sampling"
   ]
  },
  {
   "cell_type": "markdown",
   "id": "c8448330-697c-476a-985b-9520948155f9",
   "metadata": {},
   "source": [
    "**Snowball Sampling** is a non-probability sampling technique used when it’s difficult to find a specific population. In this method, existing participants help recruit future participants by referring people they know who fit the criteria for the study. The sample grows \"snowball-like\" as it accumulates more participants through referrals."
   ]
  },
  {
   "cell_type": "markdown",
   "id": "3f027d4c-8cad-4f1a-a972-44613a34f8b0",
   "metadata": {},
   "source": [
    "**How it Works:**\n",
    "1. Identify initial participants (called \"seeds\") who fit the research criteria.\n",
    "2. Ask these participants to refer others they know who meet the same criteria.\n",
    "3. The referred participants are included in the study and are also asked to refer more people.\n",
    "4. The process continues until the required sample size is reached."
   ]
  },
  {
   "cell_type": "markdown",
   "id": "e8b56fab-7e30-42d5-80d1-f87b10452c52",
   "metadata": {},
   "source": [
    "**When to Use Snowball Sampling:**\n",
    "\n",
    "1. When you are studying hard-to-reach populations (e.g., marginalized groups, specific professionals).\n",
    "2. For social network research, where relationships between participants are important.\n",
    "3. When there is no clear list of the population to randomly sample from."
   ]
  },
  {
   "cell_type": "markdown",
   "id": "71f34c38-edc8-4ccc-90d3-684ca6fe8c79",
   "metadata": {},
   "source": [
    "**Example:**\n",
    "If you want to study the behaviors of drug users, you may start by interviewing a few known drug users (seeds). They, in turn, refer other drug users they know, and the sample expands through these referrals."
   ]
  },
  {
   "cell_type": "markdown",
   "id": "121f3670-664c-4dc1-9369-ba63fcaa4d79",
   "metadata": {},
   "source": [
    "**Pros:**\n",
    "1. Efficient: Helps access hard-to-reach populations.\n",
    "2. Cost-effective: Lowers the need for extensive searches for participants.\n",
    "3. Community Insight: Participants often trust the process more since they are referred by someone they know."
   ]
  },
  {
   "cell_type": "markdown",
   "id": "4759442e-4423-40f3-b0b5-0b94e05562c4",
   "metadata": {},
   "source": [
    "**Cons:**\n",
    "1. Bias: The sample may not be representative of the entire population since participants are selected based on their social network.\n",
    "2. Limited Generalizability: Results are specific to the networks of the initial participants and may not apply to a broader population.\n",
    "3. Dependence on Social Networks: If the social networks are small or insular, it may be hard to reach a diverse group of participants."
   ]
  },
  {
   "cell_type": "code",
   "execution_count": null,
   "id": "6b16da48-3dcd-4157-a28a-fa9ad358d97c",
   "metadata": {},
   "outputs": [],
   "source": [
    "Example:"
   ]
  },
  {
   "cell_type": "code",
   "execution_count": 1,
   "id": "25180679-c334-4b77-b7de-93e9c5cd0ca4",
   "metadata": {},
   "outputs": [
    {
     "name": "stdout",
     "output_type": "stream",
     "text": [
      "Final Sample: ['Alice', 'Bob', 'David', 'Charlie', 'Eva', 'Frank']\n"
     ]
    }
   ],
   "source": [
    "import pandas as pd\n",
    "\n",
    "# Step 1: Create a dataset of employees\n",
    "data = {\n",
    "    'Name': ['Alice', 'Bob', 'Charlie', 'David', 'Eva', 'Frank', 'Grace'],\n",
    "    'Department': ['IT', 'Finance', 'HR', 'IT', 'Finance', 'HR', 'Marketing'],\n",
    "    'Referrals': [['Bob', 'Charlie'], ['David'], ['Eva', 'Frank'], [], [], ['Grace'], []]\n",
    "}\n",
    "\n",
    "# Step 2: Convert the data into a DataFrame\n",
    "df = pd.DataFrame(data)\n",
    "\n",
    "# Step 3: Initialize snowball sampling with a seed participant\n",
    "initial_sample = ['Alice']\n",
    "sample = []\n",
    "\n",
    "# Step 4: Define a function to perform snowball sampling\n",
    "def snowball_sampling(initial_sample, df, sample, max_depth=2):\n",
    "    for person in initial_sample:\n",
    "        if person not in sample:\n",
    "            sample.append(person)  # Add the person to the sample\n",
    "            # Find the referrals for the current person\n",
    "            referrals = df[df['Name'] == person]['Referrals'].values[0]\n",
    "            # Perform sampling for referrals\n",
    "            if max_depth > 0:\n",
    "                snowball_sampling(referrals, df, sample, max_depth - 1)\n",
    "\n",
    "# Step 5: Perform the sampling\n",
    "snowball_sampling(initial_sample, df, sample)\n",
    "\n",
    "# Step 6: Show the final sample\n",
    "print(\"Final Sample:\", sample)\n"
   ]
  },
  {
   "cell_type": "raw",
   "id": "d12d541a-7de3-4f66-bdeb-f83a0919e35c",
   "metadata": {},
   "source": [
    "Major Points Recap:\n",
    "\n",
    "    snowball_sampling(): Core recursive function that grows the sample by adding participants and their referrals.\n",
    "    initial_sample: List of seed participants to start the process.\n",
    "    Recursive Structure: Repeats sampling for referrals of each participant until a max depth is reached.\n",
    "    Dynamic Sampling: Adjusts based on referrals in the dataset."
   ]
  },
  {
   "cell_type": "markdown",
   "id": "d56296c7-413b-4f0c-aaa5-25f7e71929aa",
   "metadata": {},
   "source": [
    "**Conclusion:**\n",
    "Snowball sampling is useful for reaching specific groups when it's difficult to create a full sampling frame. However, researchers need to be cautious about the biases introduced by relying on referrals."
   ]
  },
  {
   "cell_type": "code",
   "execution_count": null,
   "id": "dd08fbf2-a511-4f35-9280-78d4d98b95d5",
   "metadata": {},
   "outputs": [],
   "source": []
  }
 ],
 "metadata": {
  "kernelspec": {
   "display_name": "Python 3 (ipykernel)",
   "language": "python",
   "name": "python3"
  },
  "language_info": {
   "codemirror_mode": {
    "name": "ipython",
    "version": 3
   },
   "file_extension": ".py",
   "mimetype": "text/x-python",
   "name": "python",
   "nbconvert_exporter": "python",
   "pygments_lexer": "ipython3",
   "version": "3.12.3"
  }
 },
 "nbformat": 4,
 "nbformat_minor": 5
}
