{
 "cells": [
  {
   "cell_type": "markdown",
   "id": "557523dc-8806-43d7-9126-ffec9eb0a9c8",
   "metadata": {},
   "source": [
    "# Judgmental Sampling"
   ]
  },
  {
   "cell_type": "markdown",
   "id": "28de1417-5333-4bff-aacc-d03149a127ea",
   "metadata": {},
   "source": [
    "**Judgmental sampling** (also known as purposive sampling or selective sampling) is a non-probability sampling method where the researcher intentionally selects specific individuals or groups based on their knowledge, judgment, or the purpose of the study. The aim is to include participants who are most relevant to the research question, rather than randomly selecting participants."
   ]
  },
  {
   "cell_type": "markdown",
   "id": "774b1db3-6b5d-4b1b-8a78-2b268a14064c",
   "metadata": {},
   "source": [
    "**Key Characteristics:**\n",
    "\n",
    "Researcher judgment: The researcher uses their expertise to choose participants who are believed to provide the most valuable insights or data.\n",
    "Focus on specific criteria: Selection is based on certain characteristics, traits, or behaviors that are relevant to the study's objectives.\n",
    "Non-representative: Like convenience sampling, judgmental sampling may not represent the broader population, leading to potential bias."
   ]
  },
  {
   "cell_type": "markdown",
   "id": "d831acc4-ed8b-41dd-b24f-79e657f7d7f2",
   "metadata": {},
   "source": [
    "**Example:**\n",
    "A researcher studying the impact of technology on education might purposely select teachers from schools that have adopted new digital tools, believing these participants will provide the most relevant insights for the study. This is a form of judgmental or purposive sampling because the participants are chosen based on their specific experiences."
   ]
  },
  {
   "cell_type": "markdown",
   "id": "ffaad73d-763c-4e31-8fe3-e4edf10fffec",
   "metadata": {},
   "source": [
    "**Common Uses:**\n",
    "\n",
    "Qualitative research: Often used in case studies, interviews, or focus groups, where in-depth insights are needed from specific individuals.\n",
    "Expert sampling: When a study requires input from subject matter experts or people with specialized knowledge."
   ]
  },
  {
   "cell_type": "markdown",
   "id": "185b1b64-4f7d-4672-a213-93f9276c61be",
   "metadata": {},
   "source": [
    "**Example**"
   ]
  },
  {
   "cell_type": "code",
   "execution_count": null,
   "id": "dd3f115e-2ba8-45c3-ae6c-bed1dceaf1fa",
   "metadata": {},
   "outputs": [],
   "source": [
    "import pandas as pd\n",
    "\n",
    "# Sample dataset of students\n",
    "data = {\n",
    "    'Name': ['Alice', 'Bob', 'Charlie', 'David', 'Eva'],\n",
    "    'Grade': [85, 90, 75, 88, 95],\n",
    "    'Major': ['CS', 'Physics', 'Math', 'CS', 'Math']\n",
    "}\n",
    "\n",
    "# Convert to a DataFrame\n",
    "df = pd.DataFrame(data)\n",
    "\n",
    "# Judgemental/Purposive Sampling: Select students majoring in 'CS' and Grade > 85\n",
    "selected_students = df[(df['Major'] == 'CS') & (df['Grade'] > 85)]\n",
    "\n",
    "print(selected_students)\n"
   ]
  },
  {
   "cell_type": "raw",
   "id": "050e5fd6-9ee0-4a34-a953-64fa0562e22d",
   "metadata": {},
   "source": [
    "Explanation\n",
    "\n",
    "Dataset: We have a sample dataset of students with attributes like name, grade, and major.\n",
    "Purposive Sampling Criteria: We select only the students who major in Computer Science (CS) and have a grade above 85.\n",
    "Result: The filtered dataset contains only those students who meet these conditions."
   ]
  },
  {
   "cell_type": "markdown",
   "id": "e04e9450-024c-4e65-86b6-076ec8832bec",
   "metadata": {},
   "source": [
    "**Another Example:**"
   ]
  },
  {
   "cell_type": "markdown",
   "id": "7f197a3c-72cd-4d85-a9e7-abe22686a137",
   "metadata": {},
   "source": [
    "**Scenario:**\n",
    "  \n",
    "You have a dataset of employees, and you want to purposively select employees who work in 'IT' or 'Finance', have more than 5 years of experience, and earn a salary greater than $80,000."
   ]
  },
  {
   "cell_type": "code",
   "execution_count": null,
   "id": "b67bf5da-48ec-4a00-85c2-4f4bad385e8d",
   "metadata": {},
   "outputs": [],
   "source": [
    "import pandas as pd\n",
    "\n",
    "# Step 1: Create a larger dataset\n",
    "data = {\n",
    "    'Name': ['Alice', 'Bob', 'Charlie', 'David', 'Eva', 'Frank', 'Grace', 'Henry', 'Ivy', 'Jack'],\n",
    "    'Department': ['IT', 'Finance', 'HR', 'IT', 'Finance', 'HR', 'Marketing', 'IT', 'Finance', 'IT'],\n",
    "    'Years_of_Experience': [6, 4, 8, 10, 12, 3, 7, 9, 11, 2],\n",
    "    'Salary': [85000, 65000, 90000, 105000, 120000, 40000, 75000, 95000, 110000, 60000]\n",
    "}\n",
    "\n",
    "# Step 2: Convert the data into a DataFrame\n",
    "df = pd.DataFrame(data)\n",
    "\n",
    "# Step 3: Apply purposive sampling\n",
    "# Select employees from IT or Finance, with more than 5 years of experience and salary greater than 80,000\n",
    "selected_employees = df[(df['Department'].isin(['IT', 'Finance'])) & \n",
    "                        (df['Years_of_Experience'] > 5) & \n",
    "                        (df['Salary'] > 80000)]\n",
    "\n",
    "# Step 4: Display the selected employees\n",
    "print(selected_employees)\n"
   ]
  },
  {
   "cell_type": "raw",
   "id": "76763230-3e82-4a2a-8705-bf9a8eb3eaab",
   "metadata": {},
   "source": [
    "Explanation:\n",
    "\n",
    "1. Larger Dataset: Includes more data points to show how purposive sampling works in a more realistic scenario.\n",
    "2. Purposive Criteria: We selected employees based on three specific conditions: department ('IT' or 'Finance'), experience (>5 years), and salary (>80,000).\n",
    "3. Non-random Selection: The process is not random; it’s guided by the purpose of studying employees in specific roles and with certain qualifications."
   ]
  },
  {
   "cell_type": "markdown",
   "id": "de551715-f2b5-4f5e-836f-5773db56bc64",
   "metadata": {},
   "source": [
    "**Pros of Judgmental/Purposive Sampling:**\n",
    "\n",
    "Targeted: Focuses on relevant participants for specific research.\n",
    "Efficient: Saves time and resources by selecting based on purpose.\n",
    "Specialized: Useful for studying specific subgroups or experts.\n",
    "Flexible: Criteria can be adjusted during the study.\n",
    "\n",
    "**Cons of Judgmental/Purposive Sampling:**\n",
    "\n",
    "Bias: Selection can be influenced by researcher’s judgment.\n",
    "Limited Generalizability: Results may not apply to the broader population.\n",
    "Subjective: Relies on researcher’s personal judgment.\n",
    "Hard to Replicate: Non-random sample makes replication difficult."
   ]
  },
  {
   "cell_type": "markdown",
   "id": "4bf58a06-c07e-4c3a-9db8-006eea1a2974",
   "metadata": {},
   "source": [
    "**Conclusion:**\n",
    "\n",
    "Judgmental (or purposive) sampling is a valuable method in research when the focus is on a specific subgroup or when it’s important to include only those participants who meet particular criteria. Its strength lies in its ability to hone in on relevant participants, saving time and effort in certain contexts, especially for qualitative research or case studies.\n",
    "\n",
    "However, the potential for bias and limited generalizability are significant drawbacks, and researchers must be cautious in how they interpret and apply findings. Purposive sampling is best used in situations where the goal is to explore or understand a particular phenomenon in depth, rather than to make broad generalizations."
   ]
  },
  {
   "cell_type": "code",
   "execution_count": null,
   "id": "600b8689-e62d-4d06-b8ce-45c84e8d623a",
   "metadata": {},
   "outputs": [],
   "source": []
  }
 ],
 "metadata": {
  "kernelspec": {
   "display_name": "Python 3 (ipykernel)",
   "language": "python",
   "name": "python3"
  },
  "language_info": {
   "codemirror_mode": {
    "name": "ipython",
    "version": 3
   },
   "file_extension": ".py",
   "mimetype": "text/x-python",
   "name": "python",
   "nbconvert_exporter": "python",
   "pygments_lexer": "ipython3",
   "version": "3.12.3"
  }
 },
 "nbformat": 4,
 "nbformat_minor": 5
}
