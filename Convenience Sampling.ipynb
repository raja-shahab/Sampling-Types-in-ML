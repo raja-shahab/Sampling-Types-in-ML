{
 "cells": [
  {
   "cell_type": "markdown",
   "id": "6d77db2c-7824-4b3d-9510-d5c19ad68f74",
   "metadata": {},
   "source": [
    "# Convenience Sampling"
   ]
  },
  {
   "cell_type": "markdown",
   "id": "6328cbc6-62db-4428-ab8a-35f2c3f2da9a",
   "metadata": {},
   "source": [
    "**Convenience sampling** is a non-probability sampling technique where participants are selected based on their easy availability and proximity to the researcher. This method is often used in situations where quick, cost-effective data collection is needed, but it may lead to biased results since the sample may not accurately represent the larger population."
   ]
  },
  {
   "cell_type": "markdown",
   "id": "e3694b31-40e2-422a-99b4-f5bed9a36934",
   "metadata": {},
   "source": [
    "**Key Characteristics:**\n",
    "\n",
    "1. Ease of Access: Participants are chosen because they are readily available, such as friends, family, or passersby.\n",
    "2. Speed and Cost: It's quicker and cheaper than probability sampling methods, making it appealing for preliminary research.\n",
    "3. Bias Potential: The sample may not be representative, which can affect the validity and generalizability of the findings."
   ]
  },
  {
   "cell_type": "markdown",
   "id": "74bbbbe5-1cbe-4cdb-9127-8ceb3ded733f",
   "metadata": {},
   "source": [
    "**Applications:**\n",
    "\n",
    "1. Pilot studies\n",
    "2. Exploratory research\n",
    "3. Situations with limited resources"
   ]
  },
  {
   "cell_type": "markdown",
   "id": "f25c27d2-4466-4fc1-abaf-f8dd16ff8262",
   "metadata": {},
   "source": [
    "**Limitations:**\n",
    "\n",
    "1. Lack of Representativeness: Findings may not be applicable to the broader population.\n",
    "2. Increased Risk of Bias: Results may reflect the characteristics of the sample rather than the target population."
   ]
  },
  {
   "cell_type": "raw",
   "id": "93956f4b-1295-478a-bbc9-1d7b2ad42215",
   "metadata": {},
   "source": [
    "Example:"
   ]
  },
  {
   "cell_type": "code",
   "execution_count": 2,
   "id": "71c639fc-167c-40f4-96b5-50d3dc249f2f",
   "metadata": {},
   "outputs": [
    {
     "name": "stdout",
     "output_type": "stream",
     "text": [
      "Population: ['Alice', 'Bob', 'Charlie', 'David', 'Eve', 'Frank', 'Grace', 'Heidi', 'Ivan', 'Judy']\n",
      "Convenience Sample: ['Bob', 'Heidi', 'Grace', 'Ivan', 'Charlie']\n"
     ]
    }
   ],
   "source": [
    "import random\n",
    "\n",
    "# Hypothetical population of people\n",
    "population = [\n",
    "    \"Alice\", \"Bob\", \"Charlie\", \"David\", \"Eve\", \n",
    "    \"Frank\", \"Grace\", \"Heidi\", \"Ivan\", \"Judy\"\n",
    "]\n",
    "\n",
    "# Function to perform convenience sampling\n",
    "def convenience_sample(population, sample_size):\n",
    "    # Select a sample of the given size from the population\n",
    "    # Here, we're using random.sample to simulate convenience sampling\n",
    "    sample = random.sample(population, min(sample_size, len(population)))\n",
    "    return sample\n",
    "\n",
    "# Define the sample size\n",
    "sample_size = 5\n",
    "\n",
    "# Get the convenience sample\n",
    "sample = convenience_sample(population, sample_size)\n",
    "\n",
    "# Print the results\n",
    "print(\"Population:\", population)\n",
    "print(\"Convenience Sample:\", sample)\n"
   ]
  },
  {
   "cell_type": "markdown",
   "id": "ac963d65-80d8-4d48-9768-9e6fd24259a9",
   "metadata": {},
   "source": [
    "**Explanation:**\n",
    "\n",
    "1. Population: We define a list of names representing our population.\n",
    "2. Convenience Sample Function: This function takes the population and a desired sample size, then selects a sample using random.sample.\n",
    "3. Sample Size: We define the number of individuals we want in our sample.\n",
    "4. Output: The code prints the original population and the selected convenience sample."
   ]
  },
  {
   "cell_type": "markdown",
   "id": "d6fa1080-0acd-457b-8382-86a7390b502f",
   "metadata": {},
   "source": [
    "In this example, we demonstrated a basic implementation of convenience sampling using Python. By selecting a sample from a predefined population, we highlighted how easy access to participants can influence the sampling process. While convenience sampling can facilitate quick data collection, it’s important to remember that the resulting sample may not accurately represent the larger population, potentially leading to biased outcomes. This method is useful for preliminary insights, but researchers should be cautious when generalizing findings."
   ]
  },
  {
   "cell_type": "code",
   "execution_count": null,
   "id": "d2811955-6e45-4850-8b55-41acc5af696e",
   "metadata": {},
   "outputs": [],
   "source": []
  }
 ],
 "metadata": {
  "kernelspec": {
   "display_name": "Python 3 (ipykernel)",
   "language": "python",
   "name": "python3"
  },
  "language_info": {
   "codemirror_mode": {
    "name": "ipython",
    "version": 3
   },
   "file_extension": ".py",
   "mimetype": "text/x-python",
   "name": "python",
   "nbconvert_exporter": "python",
   "pygments_lexer": "ipython3",
   "version": "3.12.3"
  }
 },
 "nbformat": 4,
 "nbformat_minor": 5
}
