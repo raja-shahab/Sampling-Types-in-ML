{
 "cells": [
  {
   "cell_type": "markdown",
   "id": "2e7c132a-1e57-4a24-9857-902875fabc53",
   "metadata": {},
   "source": [
    "# Cluster Sampling"
   ]
  },
  {
   "cell_type": "markdown",
   "id": "3cec608e-0b6d-4ee3-8254-650f9e4815da",
   "metadata": {},
   "source": [
    "**Cluster sampling** is a type of probability sampling method where the population is divided into separate groups, known as clusters, and a random selection of these clusters is then made to represent the population. Instead of sampling individuals directly, entire clusters (or groups) are sampled, and data is collected from all or some individuals within the selected clusters."
   ]
  },
  {
   "cell_type": "markdown",
   "id": "a190b36b-577b-4900-ab58-5c44c1ab9b8f",
   "metadata": {},
   "source": [
    "**Key Points**\n",
    "\n",
    "1. Clusters: The population is divided into clusters, often based on geographic locations, institutions, or other natural groupings. Each cluster is considered a mini-representation of the larger population.\n",
    "\n",
    "2. Random Selection of Clusters: Clusters are randomly selected from the total number of clusters. The number of clusters selected depends on the size of the population and desired sample size.\n",
    "\n",
    "3. Data Collection: Once the clusters are selected, either all individuals within the selected clusters are surveyed (one-stage cluster sampling), or a random sample of individuals from within each selected cluster is surveyed (two-stage cluster sampling)."
   ]
  },
  {
   "cell_type": "markdown",
   "id": "09558fff-f6e8-4b67-a1de-e1ce4b093897",
   "metadata": {},
   "source": [
    "**Example**\n",
    "\n",
    "Let’s say you want to survey students in a country, but it's impractical to randomly sample students from all schools. Instead, you:\n",
    "\n",
    "    Divide the population by schools (clusters).\n",
    "    Randomly select a number of schools (clusters).\n",
    "    Survey all students from the selected schools (one-stage) or randomly sample students from these schools (two-stage)."
   ]
  },
  {
   "cell_type": "markdown",
   "id": "be59c1c4-ecdc-49e5-81d1-6f1148aa2eb1",
   "metadata": {},
   "source": [
    "**Types of Cluster Sampling**\n",
    "\n",
    "1. One-Stage Cluster Sampling: Entire clusters are selected, and all individuals within these clusters are surveyed.\n",
    "\n",
    "2. Two-Stage Cluster Sampling: Clusters are selected, but only a random sample of individuals from each cluster is surveyed."
   ]
  },
  {
   "cell_type": "markdown",
   "id": "f90db00c-4439-470a-a835-3dab6bdeb102",
   "metadata": {},
   "source": [
    "**Advantages of Cluster Sampling**\n",
    "\n",
    "1. Cost-effective: It reduces travel and administrative costs when dealing with large populations spread over large areas.\n",
    "2. Easier data collection: Since the sample is grouped, data collection can be more manageable."
   ]
  },
  {
   "cell_type": "markdown",
   "id": "e8775502-8353-4b4d-be5c-4ae7ef1d07ab",
   "metadata": {},
   "source": [
    "**Disadvantages**\n",
    "\n",
    "1. Less accurate: Cluster sampling can introduce bias if the clusters aren't representative of the population.\n",
    "2. Higher sampling error: Compared to simple random sampling, there's a higher chance of sampling error due to differences between clusters."
   ]
  },
  {
   "cell_type": "raw",
   "id": "47e19bee-fc66-43e5-a2f8-0d739bf5e8bb",
   "metadata": {},
   "source": [
    "Code Example:"
   ]
  },
  {
   "cell_type": "code",
   "execution_count": null,
   "id": "659af336-6cb8-4b83-9c6c-9bda56de2b77",
   "metadata": {},
   "outputs": [],
   "source": [
    "import pandas as pd\n",
    "\n",
    "print(pd.Series(wnba['Team'].unique()).sample(4, random_state = 0))\n",
    "\n",
    "data = pd.read_csv('wnba.csv')\n",
    "df = pd.DataFrame(data)\n",
    "\n",
    "df_pho = df[df['Team'] == 'PHO']\n",
    "df_ind = df[df['Team'] == 'IND']\n",
    "df_min = df[df['Team'] == 'MIN']\n",
    "df_atl = df[df['Team'] == 'ATL']\n",
    "\n",
    "all_data = pd.concat([df_pho, df_ind, df_min, df_atl])\n",
    "print(all_data)\n",
    "\n",
    "\n",
    "# Calculate population means for the whole dataset (true population values)\n",
    "population_mean_height = df['Height'].mean()\n",
    "population_mean_age = df['Age'].mean()\n",
    "population_mean_BMI = df['BMI'].mean()\n",
    "population_mean_points = df['PTS'].mean()\n",
    "\n",
    "# Calculate the means for Height, Age, BMI, and PTS from the selected cluster data\n",
    "cluster_mean_height = all_data['Height'].mean()\n",
    "cluster_mean_age = all_data['Age'].mean()\n",
    "cluster_mean_BMI = all_data['BMI'].mean()\n",
    "cluster_mean_points = all_data['PTS'].mean()\n",
    "\n",
    "sampling_error_height = population_mean_height - cluster_mean_height\n",
    "sampling_error_age = population_mean_age - cluster_mean_age\n",
    "sampling_error_BMI = population_mean_BMI - cluster_mean_BMI\n",
    "sampling_error_points = population_mean_points - cluster_mean_points"
   ]
  },
  {
   "cell_type": "markdown",
   "id": "e4398119-8cd1-435d-9198-841d204c220a",
   "metadata": {},
   "source": [
    "**Explanation:**"
   ]
  },
  {
   "cell_type": "raw",
   "id": "60e658e4-eb05-45ca-bb99-d273d1e1b36b",
   "metadata": {},
   "source": [
    "1. Sampling Four Teams:\n",
    "        The unique teams in the dataset are listed, and a sample of four teams (PHO, IND, MIN, ATL) is selected randomly.\n",
    "\n",
    "2. Filtering Data for Sampled Teams:\n",
    "        The dataset is filtered to include only players from the selected teams (PHO, IND, MIN, ATL).\n",
    "        The data from these four teams is combined into a new dataset called all_data.\n",
    "\n",
    "3. Population Means:\n",
    "        The mean values for Height, Age, BMI, and Points (PTS) are calculated from the entire dataset. These represent the true population values.\n",
    "\n",
    "4. luster Means:\n",
    "        The mean values for Height, Age, BMI, and Points (PTS) are calculated from the sampled teams’ data (all_data).\n",
    "\n",
    "5. Sampling Error:\n",
    "        The difference between the population means (entire dataset) and the cluster means (sampled teams) is calculated for each variable. This is called the sampling error.\n",
    "        It shows how much the means from the sampled teams differ from the actual population means."
   ]
  },
  {
   "cell_type": "markdown",
   "id": "b7b540de-3fd9-4a92-a63c-366ab9c147bd",
   "metadata": {},
   "source": [
    "**Purpose:**\n",
    "\n",
    "The code demonstrates cluster sampling and illustrates the concept of sampling error, which shows that samples may not perfectly represent the whole population."
   ]
  },
  {
   "cell_type": "code",
   "execution_count": null,
   "id": "c35a674b-426f-4a58-8711-7ee77ae0f2fd",
   "metadata": {},
   "outputs": [],
   "source": []
  }
 ],
 "metadata": {
  "kernelspec": {
   "display_name": "Python 3 (ipykernel)",
   "language": "python",
   "name": "python3"
  },
  "language_info": {
   "codemirror_mode": {
    "name": "ipython",
    "version": 3
   },
   "file_extension": ".py",
   "mimetype": "text/x-python",
   "name": "python",
   "nbconvert_exporter": "python",
   "pygments_lexer": "ipython3",
   "version": "3.12.3"
  }
 },
 "nbformat": 4,
 "nbformat_minor": 5
}
